{
 "cells": [
  {
   "cell_type": "code",
   "execution_count": null,
   "id": "7f263770",
   "metadata": {},
   "outputs": [],
   "source": [
    "import time\n",
    "\n",
    "# Define GPIO pin assignments\n",
    "channel = 8\n",
    "red = 3\n",
    "green = 5\n",
    "\n",
    "# GPIO setup\n",
    "GPIO.setmode(GPIO.BOARD)\n",
    "GPIO.setup(channel, GPIO.IN)\n",
    "GPIO.setup(red, GPIO.OUT)\n",
    "GPIO.setup(green, GPIO.OUT)\n",
    "GPIO.output(red, False)\n",
    "GPIO.output(green, False)\n",
    "\n",
    "# Callback function to check soil moisture\n",
    "def callback(channel):\n",
    "    if GPIO.input(channel):\n",
    "        return False\n",
    "    else:\n",
    "        return True\n",
    "\n",
    "# Function to handle dehydration state\n",
    "def dehydrated():\n",
    "    GPIO.output(red, True)\n",
    "    GPIO.output(green, False)\n",
    "    return\n",
    "\n",
    "# Function to handle hydrated state\n",
    "def hydrated():\n",
    "    GPIO.output(red, False)\n",
    "    GPIO.output(green, True)\n",
    "    return\n",
    "\n",
    "# Set up GPIO event detection\n",
    "GPIO.add_event_detect(channel, GPIO.BOTH, bouncetime=300)\n",
    "GPIO.add_event_callback(channel, callback)\n",
    "\n",
    "try:\n",
    "    while True:\n",
    "        time.sleep(1)\n",
    "        if callback(channel) is True:\n",
    "            print(\"I have sufficient water :)\")\n",
    "            hydrated()\n",
    "        else:\n",
    "            print(\"I'm Dehydrated :(\")\n",
    "            dehydrated()\n",
    "finally:\n",
    "    GPIO.cleanup()\n"
   ]
  }
 ],
 "metadata": {
  "kernelspec": {
   "display_name": "Python 3 (ipykernel)",
   "language": "python",
   "name": "python3"
  },
  "language_info": {
   "codemirror_mode": {
    "name": "ipython",
    "version": 3
   },
   "file_extension": ".py",
   "mimetype": "text/x-python",
   "name": "python",
   "nbconvert_exporter": "python",
   "pygments_lexer": "ipython3",
   "version": "3.9.12"
  }
 },
 "nbformat": 4,
 "nbformat_minor": 5
}
